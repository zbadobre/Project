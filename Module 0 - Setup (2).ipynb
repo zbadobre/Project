{
 "cells": [
  {
   "cell_type": "code",
   "execution_count": null,
   "metadata": {},
   "outputs": [],
   "source": [
    "# Download Zip file & Notebooks to Jupyter\n",
    "\n",
    "import requests\n",
    "\n",
    "rootlocation = r\"https://raw.githubusercontent.com/priesterkc/Data-Analytics-Lessons/master/Lv1_Lessons/\"\n",
    "\n",
    "location = rootlocation + \"datasets.zip\"\n",
    "otherlocations = ['Module 1 - Basic Python.ipynb', 'Module 2 - Explore Data.ipynb', 'Module 3 - Data Manipulation.ipynb']\n",
    "\n",
    "r = requests.get(location, allow_redirects=True)\n",
    "open('datasets.zip', 'wb').write(r.content)\n",
    "\n",
    "for loc in otherlocations:\n",
    "    location = rootlocation + loc\n",
    "    r = requests.get(location, allow_redirects=True)\n",
    "    open(loc, 'wb').write(r.content)\n",
    "\n",
    "# Unzip zip file to datasets folder\n",
    "\n",
    "import zipfile\n",
    "zip_ref = zipfile.ZipFile('datasets.zip', 'r')\n",
    "zip_ref.extractall('')\n",
    "zip_ref.close()"
   ]
  },
  {
   "cell_type": "code",
   "execution_count": null,
   "metadata": {},
   "outputs": [],
   "source": [
    "rootlocation = r\"https://raw.githubusercontent.com/priesterkc/Data-Analytics-Lessons/master/Lv1_Lessons/YourTurnExercises/\"\n",
    "\n",
    "otherlocations = ['Mod1Exercises.ipynb', 'Mod2Exercises.ipynb', 'Mod3Exercises.ipynb']\n",
    "\n",
    "for loc in otherlocations:\n",
    "    location = rootlocation + loc\n",
    "    r = requests.get(location, allow_redirects=True)\n",
    "    open(loc, 'wb').write(r.content)"
   ]
  }
 ],
 "metadata": {
  "kernelspec": {
   "display_name": "Python 3",
   "language": "python",
   "name": "python3"
  },
  "language_info": {
   "codemirror_mode": {
    "name": "ipython",
    "version": 3
   },
   "file_extension": ".py",
   "mimetype": "text/x-python",
   "name": "python",
   "nbconvert_exporter": "python",
   "pygments_lexer": "ipython3",
   "version": "3.6.2"
  }
 },
 "nbformat": 4,
 "nbformat_minor": 2
}
